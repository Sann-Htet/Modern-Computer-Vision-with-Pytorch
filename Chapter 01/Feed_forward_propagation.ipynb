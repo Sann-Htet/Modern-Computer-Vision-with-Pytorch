{
 "cells": [
  {
   "cell_type": "markdown",
   "id": "a2e75855",
   "metadata": {},
   "source": [
    "# Forward Propagation"
   ]
  },
  {
   "cell_type": "code",
   "execution_count": 1,
   "id": "534cc4f6",
   "metadata": {},
   "outputs": [],
   "source": [
    "import numpy as np\n",
    "\n",
    "def feed_forward(inputs, outputs, weights):\n",
    "    pre_hidden = np.dot(inputs, weights[0]) + weights[1]\n",
    "    hidden = 1 / (1 + np.exp(-pre_hidden))\n",
    "    pred_out = np.dot(pre_hidden, weights[2]) + weights[3]\n",
    "    mean_squared_error = np.mean(np.square(pred_out - outputs))\n",
    "    return mean_squared_error"
   ]
  },
  {
   "cell_type": "markdown",
   "id": "c5948840",
   "metadata": {},
   "source": [
    "# Activation functions in code"
   ]
  },
  {
   "cell_type": "code",
   "execution_count": 2,
   "id": "94be82c1",
   "metadata": {},
   "outputs": [],
   "source": [
    "def tanh(x):\n",
    "    return (np.exp(x)-np.exp(-x))/(np.exp(x)+np.exp(-x))\n",
    "\n",
    "def relu(x):\n",
    "    return np.where(x>0,x,0)\n",
    "\n",
    "def linear(x):\n",
    "    return x\n",
    "\n",
    "def softmax(x):\n",
    "    return np.exp(x)/np.sum(np.exp(x))"
   ]
  },
  {
   "cell_type": "markdown",
   "id": "f344831c",
   "metadata": {},
   "source": [
    "# Loss functions in code\n",
    "## Continuous loss functions"
   ]
  },
  {
   "cell_type": "code",
   "execution_count": 3,
   "id": "131fda7d",
   "metadata": {},
   "outputs": [],
   "source": [
    "def mse(p, y):\n",
    "    return np.mean(np.square(p - y))\n",
    "\n",
    "def mae(p, y):\n",
    "    return np.mean(np.abs(p-y))"
   ]
  },
  {
   "cell_type": "markdown",
   "id": "2e70b600",
   "metadata": {},
   "source": [
    "## Categorical loss functions"
   ]
  },
  {
   "cell_type": "code",
   "execution_count": 4,
   "id": "c6c90b3f",
   "metadata": {},
   "outputs": [],
   "source": [
    "def binary_cross_entropy(p, y):\n",
    "    return -np.mean((y*np.log(p)+(1-y)*np.log(1-p)))\n",
    "\n",
    "def categorical_cross_entropy(p, y):\n",
    "    return -np.mean(np.log(p[np.arange(len(y)), y]))"
   ]
  },
  {
   "cell_type": "markdown",
   "id": "3e7ddab8",
   "metadata": {},
   "source": [
    "---"
   ]
  }
 ],
 "metadata": {
  "kernelspec": {
   "display_name": "Python 3 (ipykernel)",
   "language": "python",
   "name": "python3"
  },
  "language_info": {
   "codemirror_mode": {
    "name": "ipython",
    "version": 3
   },
   "file_extension": ".py",
   "mimetype": "text/x-python",
   "name": "python",
   "nbconvert_exporter": "python",
   "pygments_lexer": "ipython3",
   "version": "3.11.4"
  }
 },
 "nbformat": 4,
 "nbformat_minor": 5
}
