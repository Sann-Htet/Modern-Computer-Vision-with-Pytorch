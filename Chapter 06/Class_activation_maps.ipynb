{
 "cells": [
  {
   "cell_type": "code",
   "execution_count": null,
   "id": "f20b855e",
   "metadata": {},
   "outputs": [],
   "source": [
    "import os\n",
    "if not os.path.exists('cell_images'):\n",
    "    !pip install -U -q torch_snippets\n",
    "    !wget -q ftp://lhcftp.nlm.nih.gov/Open-Access-Datasets/Malaria/cell_images.zip\n",
    "    !unzip -qq cell_images.zip\n",
    "    !rm cell_images.zip\n",
    "from torch_snippets import *"
   ]
  },
  {
   "cell_type": "code",
   "execution_count": null,
   "id": "5f88b0df",
   "metadata": {},
   "outputs": [],
   "source": [
    "id2int = {'Parasitized': 0, 'Uninfected': 1}"
   ]
  },
  {
   "cell_type": "code",
   "execution_count": null,
   "id": "4bc2b7d1",
   "metadata": {},
   "outputs": [],
   "source": [
    "from torchvision import transforms as T\n",
    "\n",
    "trn_tfms = T.Compose([\n",
    "    T.ToPILImage(),\n",
    "    T.Resize(128),\n",
    "    T.CenterCrop(128),\n",
    "    T.ColorJitter(brightness=(0.95,1.05), \n",
    "                  contrast=(0.95,1.05), \n",
    "                  saturation=(0.95,1.05), \n",
    "                  hue=0.05),\n",
    "    T.RandomAffine(5, translate=(0.01,0.1)),\n",
    "    T.ToTensor(),\n",
    "    T.Normalize(mean=[0.5, 0.5, 0.5], \n",
    "                std=[0.5, 0.5, 0.5]),\n",
    "])"
   ]
  },
  {
   "cell_type": "code",
   "execution_count": null,
   "id": "bb9d6321",
   "metadata": {},
   "outputs": [],
   "source": [
    "val_tfms = T.Compose([\n",
    "    T.ToPILImage(),\n",
    "    T.Resize(128),\n",
    "    T.CenterCrop(128),\n",
    "    T.ToTensor(),\n",
    "    T.Normalize(mean=[0.5, 0.5, 0.5], \n",
    "                std=[0.5, 0.5, 0.5]),\n",
    "])"
   ]
  },
  {
   "cell_type": "code",
   "execution_count": null,
   "id": "5cf3a406",
   "metadata": {},
   "outputs": [],
   "source": [
    "class MalariaImages(Dataset):\n",
    "\n",
    "    def __init__(self, files, transform=None):\n",
    "        self.files = files\n",
    "        self.transform = transform\n",
    "        logger.info(len(self))\n",
    "\n",
    "    def __len__(self):\n",
    "        return len(self.files)\n",
    "\n",
    "    def __getitem__(self, ix):\n",
    "        fpath = self.files[ix]\n",
    "        clss = fname(parent(fpath))\n",
    "        img = read(fpath, 1)\n",
    "        return img, clss\n",
    "\n",
    "    def choose(self):\n",
    "        return self[randint(len(self))]\n",
    "\n",
    "    def collate_fn(self, batch):\n",
    "        _imgs, classes = list(zip(*batch))\n",
    "        if self.transform:\n",
    "            imgs = [self.transform(img)[None] for img in _imgs]\n",
    "        classes = [torch.tensor([id2int[clss]]) for clss in classes]\n",
    "        imgs, classes = [torch.cat(i).to(device) for i in [imgs, classes]]\n",
    "        return imgs, classes, _imgs"
   ]
  },
  {
   "cell_type": "code",
   "execution_count": null,
   "id": "dd08d1f4",
   "metadata": {},
   "outputs": [],
   "source": [
    "device = 'cuda' if torch.cuda.is_available() else 'cpu'\n",
    "all_files = Glob('cell_images/*/*.png')\n",
    "np.random.seed(10)\n",
    "np.random.shuffle(all_files)\n",
    "\n",
    "from sklearn.model_selection import train_test_split\n",
    "trn_files, val_files = train_test_split(all_files, random_state=1)\n",
    "\n",
    "trn_ds = MalariaImages(trn_files, transform=trn_tfms)\n",
    "val_ds = MalariaImages(val_files, transform=val_tfms)\n",
    "trn_dl = DataLoader(trn_ds, 32, shuffle=True, collate_fn=trn_ds.collate_fn)\n",
    "val_dl = DataLoader(val_ds, 32, shuffle=False, collate_fn=val_ds.collate_fn)"
   ]
  },
  {
   "cell_type": "code",
   "execution_count": null,
   "id": "9cab8c55",
   "metadata": {},
   "outputs": [],
   "source": [
    "def convBlock(ni, no):\n",
    "    return nn.Sequential(\n",
    "        nn.Dropout(0.2),\n",
    "        nn.Conv2d(ni, no, kernel_size=3, padding=1),\n",
    "        nn.ReLU(inplace=True),\n",
    "        nn.BatchNorm2d(no),\n",
    "        nn.MaxPool2d(2),\n",
    "    )\n",
    "    \n",
    "class MalariaClassifier(nn.Module):\n",
    "    def __init__(self):\n",
    "        super().__init__()\n",
    "        self.model = nn.Sequential(\n",
    "            convBlock(3, 64),\n",
    "            convBlock(64, 64),\n",
    "            convBlock(64, 128),\n",
    "            convBlock(128, 256),\n",
    "            convBlock(256, 512),\n",
    "            convBlock(512, 64),\n",
    "            nn.Flatten(),\n",
    "            nn.Linear(256, 256),\n",
    "            nn.Dropout(0.2),\n",
    "            nn.ReLU(inplace=True),\n",
    "            nn.Linear(256, len(id2int))\n",
    "        )\n",
    "        self.loss_fn = nn.CrossEntropyLoss()\n",
    "\n",
    "    def forward(self, x):\n",
    "        return self.model(x)\n",
    "\n",
    "    def compute_metrics(self, preds, targets):\n",
    "        loss = self.loss_fn(preds, targets)\n",
    "        acc = (torch.max(preds, 1)[1] == targets).float().mean()\n",
    "        return loss, acc"
   ]
  },
  {
   "cell_type": "code",
   "execution_count": null,
   "id": "3c968bf4",
   "metadata": {},
   "outputs": [],
   "source": [
    "def train_batch(model, data, optimizer, criterion):\n",
    "    model.train()\n",
    "    ims, labels, _ = data\n",
    "    _preds = model(ims)\n",
    "    optimizer.zero_grad()\n",
    "    loss, acc = criterion(_preds, labels)\n",
    "    loss.backward()\n",
    "    optimizer.step()\n",
    "    return loss.item(), acc.item()\n",
    "\n",
    "@torch.no_grad()\n",
    "def validate_batch(model, data, criterion):\n",
    "    model.eval()\n",
    "    ims, labels, _ = data\n",
    "    _preds = model(ims)\n",
    "    loss, acc = criterion(_preds, labels)\n",
    "    return loss.item(), acc.item()"
   ]
  },
  {
   "cell_type": "code",
   "execution_count": null,
   "id": "70cfc9cf",
   "metadata": {},
   "outputs": [],
   "source": [
    "model = MalariaClassifier().to(device)\n",
    "criterion = model.compute_metrics\n",
    "optimizer = optim.Adam(model.parameters(), lr=1e-3)\n",
    "n_epochs = 2\n",
    "\n",
    "log = Report(n_epochs)\n",
    "for ex in range(n_epochs):\n",
    "    N = len(trn_dl)\n",
    "    for bx, data in enumerate(trn_dl):\n",
    "        loss, acc = train_batch(model, data, optimizer, criterion)\n",
    "        log.record(ex+(bx+1)/N, trn_loss=loss, trn_acc=acc, end='\\r')\n",
    "\n",
    "    N = len(val_dl)\n",
    "    for bx, data in enumerate(val_dl):\n",
    "        loss, acc = validate_batch(model, data, criterion)\n",
    "        log.record(ex+(bx+1)/N, val_loss=loss, val_acc=acc, end='\\r')\n",
    "        \n",
    "    log.report_avgs(ex+1)"
   ]
  },
  {
   "cell_type": "code",
   "execution_count": null,
   "id": "54591e72",
   "metadata": {},
   "outputs": [],
   "source": [
    "im2fmap = nn.Sequential(*(list(model.model[:5].children()) + list(model.model[5][:2].children())))"
   ]
  },
  {
   "cell_type": "code",
   "execution_count": null,
   "id": "cd2655d3",
   "metadata": {},
   "outputs": [],
   "source": [
    "def im2gradCAM(x):\n",
    "    model.eval()\n",
    "    logits = model(x)\n",
    "    heatmaps = []\n",
    "    activations = im2fmap(x)\n",
    "    print(activations.shape)\n",
    "    pred = logits.max(-1)[-1]\n",
    "    # get the model's prediction\n",
    "    model.zero_grad()\n",
    "    # compute gradients with respect to model's most confident logit\n",
    "    logits[0,pred].backward(retain_graph=True)\n",
    "    # get the gradients at the required featuremap location\n",
    "    # and take the avg gradient for every featuremap\n",
    "    pooled_grads = model.model[-6][1].weight.grad.data.mean((1,2,3))\n",
    "    # multiply each activation map with corresponding gradient average\n",
    "    for i in range(activations.shape[1]):\n",
    "        activations[:,i,:,:] *= pooled_grads[i]\n",
    "    # take the mean of all weighted activation maps\n",
    "    # (that has been weighted by avg. grad at each fmap)\n",
    "    heatmap = torch.mean(activations, dim=1)[0].cpu().detach()\n",
    "    return heatmap, 'Uninfected' if pred.item() else 'Parasitized'"
   ]
  },
  {
   "cell_type": "code",
   "execution_count": null,
   "id": "01e6cfa6",
   "metadata": {},
   "outputs": [],
   "source": [
    "SZ = 128\n",
    "def upsampleHeatmap(map, img):\n",
    "    m,M = map.min(), map.max()\n",
    "    map = 255 * ((map-m) / (M-m))\n",
    "    map = np.uint8(map)\n",
    "    map = cv2.resize(map, (SZ,SZ))\n",
    "    map = cv2.applyColorMap(255-map, cv2.COLORMAP_JET)\n",
    "    map = np.uint8(map)\n",
    "    map = np.uint8(map*0.7 + img*0.3)\n",
    "    return map"
   ]
  },
  {
   "cell_type": "code",
   "execution_count": null,
   "id": "fe790ccc",
   "metadata": {},
   "outputs": [],
   "source": [
    "N = 20\n",
    "_val_dl = DataLoader(val_ds, batch_size=N, shuffle=True, collate_fn=val_ds.collate_fn)\n",
    "x,y,z = next(iter(_val_dl))\n",
    "\n",
    "for i in range(N):\n",
    "    image = resize(z[i], SZ)\n",
    "    heatmap, pred = im2gradCAM(x[i:i+1])\n",
    "    if(pred=='Uninfected'):\n",
    "        continue\n",
    "    heatmap = upsampleHeatmap(heatmap, image)\n",
    "    subplots([image, heatmap], nc=2, figsize=(5,3), suptitle=pred)"
   ]
  },
  {
   "cell_type": "markdown",
   "id": "11cc383b",
   "metadata": {},
   "source": [
    "---"
   ]
  }
 ],
 "metadata": {
  "kernelspec": {
   "display_name": "Python 3 (ipykernel)",
   "language": "python",
   "name": "python3"
  },
  "language_info": {
   "codemirror_mode": {
    "name": "ipython",
    "version": 3
   },
   "file_extension": ".py",
   "mimetype": "text/x-python",
   "name": "python",
   "nbconvert_exporter": "python",
   "pygments_lexer": "ipython3",
   "version": "3.11.4"
  }
 },
 "nbformat": 4,
 "nbformat_minor": 5
}
