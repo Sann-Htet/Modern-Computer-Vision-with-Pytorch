{
 "cells": [
  {
   "cell_type": "code",
   "execution_count": null,
   "id": "471bd9ad",
   "metadata": {},
   "outputs": [],
   "source": [
    "import face_alignment\n",
    "from torch_snippets import read, show"
   ]
  },
  {
   "cell_type": "code",
   "execution_count": null,
   "id": "7a237ab0",
   "metadata": {},
   "outputs": [],
   "source": [
    "fa = face_alignment.FaceAlignment(face_alignment.LandmarksType._2D, \n",
    "                                  flip_input=False, \n",
    "                                  device='cpu')"
   ]
  },
  {
   "cell_type": "code",
   "execution_count": null,
   "id": "11bd7608",
   "metadata": {},
   "outputs": [],
   "source": [
    "input = read('./cumberbatch.jpg', 1)\n",
    "preds = fa.get_landmarks(input)[0]\n",
    "print(preds.shape)"
   ]
  },
  {
   "cell_type": "code",
   "execution_count": null,
   "id": "de2c006e",
   "metadata": {},
   "outputs": [],
   "source": [
    "import matplotlib.pyplot as plt\n",
    "%matplotlib inline\n",
    "\n",
    "fig,ax = plt.subplots(figsize=(5,5))\n",
    "show(read('./cumberbatch.jpg',1), ax=ax)\n",
    "ax.scatter(preds[:,0], preds[:,1], marker='+', c='r')\n",
    "plt.show()"
   ]
  },
  {
   "cell_type": "code",
   "execution_count": null,
   "id": "97bf7ed1",
   "metadata": {},
   "outputs": [],
   "source": [
    "fa = face_alignment.FaceAlignment(face_alignment.LandmarksType._3D, \n",
    "                                  flip_input=False, \n",
    "                                  device='cpu')\n",
    "input = read('./cumberbatch', 1)\n",
    "preds = fa.get_landmarks(input)[0]\n",
    "\n",
    "import pandas as pd\n",
    "df = pd.DataFrame(preds)\n",
    "df.columns = ['x','y','z']\n",
    "\n",
    "import plotly.express as px\n",
    "fig = px.scatter_3d(df, x = 'x', y = 'y', z = 'z')\n",
    "fig.show()"
   ]
  },
  {
   "cell_type": "markdown",
   "id": "6587ee72",
   "metadata": {},
   "source": [
    "---"
   ]
  }
 ],
 "metadata": {
  "kernelspec": {
   "display_name": "Python 3 (ipykernel)",
   "language": "python",
   "name": "python3"
  },
  "language_info": {
   "codemirror_mode": {
    "name": "ipython",
    "version": 3
   },
   "file_extension": ".py",
   "mimetype": "text/x-python",
   "name": "python",
   "nbconvert_exporter": "python",
   "pygments_lexer": "ipython3",
   "version": "3.11.4"
  }
 },
 "nbformat": 4,
 "nbformat_minor": 5
}
