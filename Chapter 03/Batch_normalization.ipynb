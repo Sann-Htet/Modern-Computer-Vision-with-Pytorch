{
 "cells": [
  {
   "cell_type": "code",
   "execution_count": 1,
   "id": "09a464e8",
   "metadata": {},
   "outputs": [],
   "source": [
    "from torchvision import datasets\n",
    "import torch\n",
    "data_folder = '~/data/FMNIST' # This can be any directory you want to download FMNIST to\n",
    "fmnist = datasets.FashionMNIST(data_folder, download=True, train=True)"
   ]
  },
  {
   "cell_type": "code",
   "execution_count": 2,
   "id": "763e71cb",
   "metadata": {},
   "outputs": [],
   "source": [
    "tr_images = fmnist.data\n",
    "tr_targets = fmnist.targets"
   ]
  },
  {
   "cell_type": "code",
   "execution_count": 3,
   "id": "9c4d1ea8",
   "metadata": {},
   "outputs": [],
   "source": [
    "val_fmnist = datasets.FashionMNIST(data_folder, download=True, train=False)\n",
    "val_images = val_fmnist.data\n",
    "val_targets = val_fmnist.targets"
   ]
  },
  {
   "cell_type": "code",
   "execution_count": 4,
   "id": "fcfaa943",
   "metadata": {},
   "outputs": [],
   "source": [
    "import matplotlib.pyplot as plt\n",
    "%matplotlib inline\n",
    "import numpy as np\n",
    "from torch.utils.data import Dataset, DataLoader\n",
    "import torch\n",
    "import torch.nn as nn\n",
    "\n",
    "device = 'cuda' if torch.cuda.is_available() else 'cpu'"
   ]
  },
  {
   "cell_type": "markdown",
   "id": "3182ea95",
   "metadata": {},
   "source": [
    "### Without BatchNormalization"
   ]
  },
  {
   "cell_type": "code",
   "execution_count": 5,
   "id": "1cba6f17",
   "metadata": {},
   "outputs": [],
   "source": [
    "class FMNISTDataset(Dataset):\n",
    "    def __init__(self, x, y):\n",
    "        x = x.float()/(255*10000)\n",
    "        x = x.view(-1,28*28)\n",
    "        self.x, self.y = x, y \n",
    "    def __getitem__(self, ix):\n",
    "        x, y = self.x[ix], self.y[ix]        \n",
    "        return x.to(device), y.to(device)\n",
    "    def __len__(self): \n",
    "        return len(self.x)\n",
    "\n",
    "from torch.optim import SGD, Adam\n",
    "\n",
    "def get_model():\n",
    "    class neuralnet(nn.Module):\n",
    "        def __init__(self):\n",
    "            super().__init__()\n",
    "            self.input_to_hidden_layer = nn.Linear(784,1000)\n",
    "            self.hidden_layer_activation = nn.ReLU()\n",
    "            self.hidden_to_output_layer = nn.Linear(1000,10)\n",
    "        def forward(self, x):\n",
    "            x = self.input_to_hidden_layer(x)\n",
    "            x1 = self.hidden_layer_activation(x)\n",
    "            x2= self.hidden_to_output_layer(x1)\n",
    "            return x2, x1\n",
    "    model = neuralnet().to(device)\n",
    "\n",
    "    loss_fn = nn.CrossEntropyLoss()\n",
    "    optimizer = Adam(model.parameters(), lr=1e-3)\n",
    "    return model, loss_fn, optimizer\n",
    "\n",
    "def train_batch(x, y, model, opt, loss_fn):\n",
    "    prediction = model(x)[0]\n",
    "    batch_loss = loss_fn(prediction, y)\n",
    "    batch_loss.backward()\n",
    "    optimizer.step()\n",
    "    optimizer.zero_grad()\n",
    "    return batch_loss.item()\n",
    "\n",
    "def accuracy(x, y, model):\n",
    "    with torch.no_grad():\n",
    "        prediction = model(x)[0]\n",
    "    max_values, argmaxes = prediction.max(-1)\n",
    "    is_correct = argmaxes == y\n",
    "    return is_correct.cpu().numpy().tolist()"
   ]
  },
  {
   "cell_type": "code",
   "execution_count": 6,
   "id": "b13b57b3",
   "metadata": {},
   "outputs": [],
   "source": [
    "def get_data():     \n",
    "    train = FMNISTDataset(tr_images, tr_targets)     \n",
    "    trn_dl = DataLoader(train, batch_size=32, shuffle=True)\n",
    "    val = FMNISTDataset(val_images, val_targets)     \n",
    "    val_dl = DataLoader(val, batch_size=len(val_images), shuffle=True)\n",
    "    return trn_dl, val_dl"
   ]
  },
  {
   "cell_type": "code",
   "execution_count": 7,
   "id": "c224ef7e",
   "metadata": {},
   "outputs": [],
   "source": [
    "@torch.no_grad()\n",
    "def val_loss(x, y, model):\n",
    "    model.eval()\n",
    "    prediction = model(x)[0]\n",
    "    val_loss = loss_fn(prediction, y)\n",
    "    return val_loss.item()"
   ]
  },
  {
   "cell_type": "code",
   "execution_count": 8,
   "id": "79685f2f",
   "metadata": {},
   "outputs": [],
   "source": [
    "trn_dl, val_dl = get_data()\n",
    "model, loss_fn, optimizer = get_model()"
   ]
  },
  {
   "cell_type": "code",
   "execution_count": null,
   "id": "9330618a",
   "metadata": {},
   "outputs": [],
   "source": [
    "train_losses, train_accuracies = [], []\n",
    "val_losses, val_accuracies = [], []\n",
    "for epoch in range(100):\n",
    "    print(epoch)\n",
    "    train_epoch_losses, train_epoch_accuracies = [], []\n",
    "    for ix, batch in enumerate(iter(trn_dl)):\n",
    "        x, y = batch\n",
    "        batch_loss = train_batch(x, y, model, optimizer, loss_fn)\n",
    "        train_epoch_losses.append(batch_loss)        \n",
    "    train_epoch_loss = np.array(train_epoch_losses).mean()\n",
    "\n",
    "    for ix, batch in enumerate(iter(trn_dl)):\n",
    "        x, y = batch\n",
    "        is_correct = accuracy(x, y, model)\n",
    "        train_epoch_accuracies.extend(is_correct)\n",
    "    train_epoch_accuracy = np.mean(train_epoch_accuracies)\n",
    "\n",
    "    for ix, batch in enumerate(iter(val_dl)):\n",
    "        x, y = batch\n",
    "        val_is_correct = accuracy(x, y, model)\n",
    "        validation_loss = val_loss(x, y, model)\n",
    "    val_epoch_accuracy = np.mean(val_is_correct)\n",
    "\n",
    "    train_losses.append(train_epoch_loss)\n",
    "    train_accuracies.append(train_epoch_accuracy)\n",
    "    val_losses.append(validation_loss)\n",
    "    val_accuracies.append(val_epoch_accuracy)"
   ]
  },
  {
   "cell_type": "code",
   "execution_count": null,
   "id": "1535127e",
   "metadata": {},
   "outputs": [],
   "source": [
    "import matplotlib.ticker as mtick\n",
    "import matplotlib.pyplot as plt\n",
    "import matplotlib.ticker as mticker\n",
    "%matplotlib inline\n",
    "\n",
    "epochs = np.arange(100)+1\n",
    "plt.subplot(211)\n",
    "plt.plot(epochs, train_losses, 'bo', label='Training loss')\n",
    "plt.plot(epochs, val_losses, 'r', label='Validation loss')\n",
    "#plt.gca().xaxis.set_major_locator(mticker.MultipleLocator(1))\n",
    "plt.title('Training and validation loss with very small input values')\n",
    "plt.xlabel('Epochs')\n",
    "plt.ylabel('Loss')\n",
    "plt.legend()\n",
    "plt.grid('off')\n",
    "plt.show()\n",
    "plt.subplot(212)\n",
    "plt.plot(epochs, train_accuracies, 'bo', label='Training accuracy')\n",
    "plt.plot(epochs, val_accuracies, 'r', label='Validation accuracy')\n",
    "#plt.gca().xaxis.set_major_locator(mticker.MultipleLocator(1))\n",
    "plt.title('Training and validation accuracy with very small input values')\n",
    "plt.xlabel('Epochs')\n",
    "plt.ylabel('Accuracy')\n",
    "#plt.ylim(0.8,1)\n",
    "plt.gca().set_yticklabels(['{:.0f}%'.format(x*100) for x in plt.gca().get_yticks()]) \n",
    "plt.legend()\n",
    "plt.grid('off')\n",
    "plt.show()"
   ]
  },
  {
   "cell_type": "code",
   "execution_count": null,
   "id": "dbe19af3",
   "metadata": {},
   "outputs": [],
   "source": [
    "plt.hist(model(x)[1].cpu().detach().numpy().flatten())\n",
    "plt.title(\"Hidden layer node values' distribution\")"
   ]
  },
  {
   "cell_type": "code",
   "execution_count": null,
   "id": "fb3dbb5c",
   "metadata": {},
   "outputs": [],
   "source": [
    "for ix, par in enumerate(model.parameters()):\n",
    "  if(ix==0):\n",
    "      plt.hist(par.cpu().detach().numpy().flatten())\n",
    "      #plt.xlim(-2,2)\n",
    "      plt.title('Distribution of weights conencting input to hidden layer')\n",
    "      plt.show()\n",
    "  elif(ix ==1):\n",
    "      plt.hist(par.cpu().detach().numpy().flatten())\n",
    "      #plt.xlim(-2,2)\n",
    "      plt.title('Distribution of biases of hidden layer')\n",
    "      plt.show()\n",
    "  elif(ix==2):\n",
    "      plt.hist(par.cpu().detach().numpy().flatten())\n",
    "      #plt.xlim(-2,2)\n",
    "      plt.title('Distribution of weights conencting hidden to output layer')\n",
    "      plt.show()\n",
    "  elif(ix ==3):\n",
    "      plt.hist(par.cpu().detach().numpy().flatten())\n",
    "      #plt.xlim(-2,2)\n",
    "      plt.title('Distribution of biases of output layer')\n",
    "      plt.show()  "
   ]
  },
  {
   "cell_type": "markdown",
   "id": "463d6a58",
   "metadata": {},
   "source": [
    "### With BatchNormalization"
   ]
  },
  {
   "cell_type": "code",
   "execution_count": null,
   "id": "e2c6814a",
   "metadata": {},
   "outputs": [],
   "source": [
    "class FMNISTDataset(Dataset):\n",
    "    def __init__(self, x, y):\n",
    "        x = x.float()/(255*10000)\n",
    "        x = x.view(-1,28*28)\n",
    "        self.x, self.y = x, y \n",
    "    def __getitem__(self, ix):\n",
    "        x, y = self.x[ix], self.y[ix]        \n",
    "        return x.to(device), y.to(device)\n",
    "    def __len__(self): \n",
    "        return len(self.x)\n",
    "\n",
    "from torch.optim import SGD, Adam\n",
    "\n",
    "def get_model():\n",
    "    class neuralnet(nn.Module):\n",
    "        def __init__(self):\n",
    "            super().__init__()\n",
    "            self.input_to_hidden_layer = nn.Linear(784,1000)\n",
    "            self.batch_norm = nn.BatchNorm1d(1000)\n",
    "            self.hidden_layer_activation = nn.ReLU()\n",
    "            self.hidden_to_output_layer = nn.Linear(1000,10)\n",
    "        def forward(self, x):\n",
    "            x = self.input_to_hidden_layer(x)\n",
    "            x0 = self.batch_norm(x)\n",
    "            x1 = self.hidden_layer_activation(x0)\n",
    "            x2= self.hidden_to_output_layer(x1)\n",
    "            return x2, x1\n",
    "    model = neuralnet().to(device)\n",
    "    loss_fn = nn.CrossEntropyLoss()\n",
    "    optimizer = Adam(model.parameters(), lr=1e-3)\n",
    "    return model, loss_fn, optimizer\n",
    "\n",
    "def train_batch(x, y, model, opt, loss_fn):\n",
    "    prediction = model(x)[0]\n",
    "    batch_loss = loss_fn(prediction, y)\n",
    "    batch_loss.backward()\n",
    "    optimizer.step()\n",
    "    optimizer.zero_grad()\n",
    "    return batch_loss.item()\n",
    "\n",
    "def accuracy(x, y, model):\n",
    "    with torch.no_grad():\n",
    "        prediction = model(x)[0]\n",
    "    max_values, argmaxes = prediction.max(-1)\n",
    "    is_correct = argmaxes == y\n",
    "    return is_correct.cpu().numpy().tolist()"
   ]
  },
  {
   "cell_type": "code",
   "execution_count": null,
   "id": "3b6d4257",
   "metadata": {},
   "outputs": [],
   "source": [
    "def val_loss(x, y, model):\n",
    "    model.eval()\n",
    "    with torch.no_grad():\n",
    "        prediction = model(x)[0]\n",
    "    val_loss = loss_fn(prediction, y)\n",
    "    return val_loss.item()"
   ]
  },
  {
   "cell_type": "code",
   "execution_count": null,
   "id": "09ac7429",
   "metadata": {},
   "outputs": [],
   "source": [
    "trn_dl, val_dl = get_data()\n",
    "model, loss_fn, optimizer = get_model()"
   ]
  },
  {
   "cell_type": "code",
   "execution_count": null,
   "id": "cf036e6d",
   "metadata": {},
   "outputs": [],
   "source": [
    "train_losses, train_accuracies = [], []\n",
    "val_losses, val_accuracies = [], []\n",
    "for epoch in range(100):\n",
    "    print(epoch)\n",
    "    train_epoch_losses, train_epoch_accuracies = [], []\n",
    "    for ix, batch in enumerate(iter(trn_dl)):\n",
    "        x, y = batch\n",
    "        batch_loss = train_batch(x, y, model, optimizer, loss_fn)\n",
    "        train_epoch_losses.append(batch_loss)        \n",
    "    train_epoch_loss = np.array(train_epoch_losses).mean()\n",
    "\n",
    "    for ix, batch in enumerate(iter(trn_dl)):\n",
    "        x, y = batch\n",
    "        is_correct = accuracy(x, y, model)\n",
    "        train_epoch_accuracies.extend(is_correct)\n",
    "    train_epoch_accuracy = np.mean(train_epoch_accuracies)\n",
    "\n",
    "    for ix, batch in enumerate(iter(val_dl)):\n",
    "        x, y = batch\n",
    "        val_is_correct = accuracy(x, y, model)\n",
    "        validation_loss = val_loss(x, y, model)\n",
    "    val_epoch_accuracy = np.mean(val_is_correct)\n",
    "\n",
    "    train_losses.append(train_epoch_loss)\n",
    "    train_accuracies.append(train_epoch_accuracy)\n",
    "    val_losses.append(validation_loss)\n",
    "    val_accuracies.append(val_epoch_accuracy)"
   ]
  },
  {
   "cell_type": "code",
   "execution_count": null,
   "id": "9e498850",
   "metadata": {},
   "outputs": [],
   "source": [
    "import matplotlib.ticker as mtick\n",
    "import matplotlib.pyplot as plt\n",
    "import matplotlib.ticker as mticker\n",
    "%matplotlib inline\n",
    "\n",
    "epochs = np.arange(100)+1\n",
    "plt.subplot(211)\n",
    "plt.plot(epochs, train_losses, 'bo', label='Training loss')\n",
    "plt.plot(epochs, val_losses, 'r', label='Validation loss')\n",
    "#plt.gca().xaxis.set_major_locator(mticker.MultipleLocator(1))\n",
    "plt.title('Training and validation loss with very small input values and batch normalization')\n",
    "plt.xlabel('Epochs')\n",
    "plt.ylabel('Loss')\n",
    "plt.legend()\n",
    "plt.grid('off')\n",
    "plt.show()\n",
    "plt.subplot(212)\n",
    "plt.plot(epochs, train_accuracies, 'bo', label='Training accuracy')\n",
    "plt.plot(epochs, val_accuracies, 'r', label='Validation accuracy')\n",
    "#plt.gca().xaxis.set_major_locator(mticker.MultipleLocator(1))\n",
    "plt.title('Training and validation accuracy with very small input values and batch normalization')\n",
    "plt.xlabel('Epochs')\n",
    "plt.ylabel('Accuracy')\n",
    "#plt.ylim(0.8,1)\n",
    "plt.gca().set_yticklabels(['{:.0f}%'.format(x*100) for x in plt.gca().get_yticks()]) \n",
    "plt.legend()\n",
    "plt.grid('off')\n",
    "plt.show()"
   ]
  },
  {
   "cell_type": "code",
   "execution_count": null,
   "id": "6dd1b884",
   "metadata": {},
   "outputs": [],
   "source": [
    "plt.hist(model(x)[1].cpu().detach().numpy().flatten())\n",
    "plt.title(\"Hidden layer node values' distribution with batch normalization\")"
   ]
  },
  {
   "cell_type": "code",
   "execution_count": null,
   "id": "c08dd4b1",
   "metadata": {},
   "outputs": [],
   "source": [
    "for ix, par in enumerate(model.parameters()):\n",
    "  if(ix==0):\n",
    "      plt.hist(par.cpu().detach().numpy().flatten())\n",
    "      #plt.xlim(-2,2)\n",
    "      plt.title('Distribution of weights conencting input to hidden layer')\n",
    "      plt.show()\n",
    "  elif(ix ==1):\n",
    "      plt.hist(par.cpu().detach().numpy().flatten())\n",
    "      #plt.xlim(-2,2)\n",
    "      plt.title('Distribution of biases of hidden layer')\n",
    "      plt.show()\n",
    "  elif(ix==2):\n",
    "      plt.hist(par.cpu().detach().numpy().flatten())\n",
    "      #plt.xlim(-2,2)\n",
    "      plt.title('Distribution of weights conencting hidden to output layer')\n",
    "      plt.show()\n",
    "  elif(ix ==3):\n",
    "      plt.hist(par.cpu().detach().numpy().flatten())\n",
    "      #plt.xlim(-2,2)\n",
    "      plt.title('Distribution of biases of output layer')\n",
    "      plt.show()"
   ]
  },
  {
   "cell_type": "markdown",
   "id": "655f4311",
   "metadata": {},
   "source": [
    "---"
   ]
  }
 ],
 "metadata": {
  "kernelspec": {
   "display_name": "Python 3 (ipykernel)",
   "language": "python",
   "name": "python3"
  },
  "language_info": {
   "codemirror_mode": {
    "name": "ipython",
    "version": 3
   },
   "file_extension": ".py",
   "mimetype": "text/x-python",
   "name": "python",
   "nbconvert_exporter": "python",
   "pygments_lexer": "ipython3",
   "version": "3.11.4"
  }
 },
 "nbformat": 4,
 "nbformat_minor": 5
}
