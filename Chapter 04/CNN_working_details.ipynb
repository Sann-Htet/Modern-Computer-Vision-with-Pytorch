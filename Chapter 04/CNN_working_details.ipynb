{
 "cells": [
  {
   "cell_type": "code",
   "execution_count": 1,
   "id": "90b416db",
   "metadata": {},
   "outputs": [],
   "source": [
    "import torch\n",
    "from torch import nn\n",
    "from torch.utils.data import TensorDataset, Dataset, DataLoader\n",
    "from torch.optim import SGD, Adam\n",
    "\n",
    "device = 'cuda' if torch.cuda.is_available() else 'cpu'\n",
    "\n",
    "from torchvision import datasets\n",
    "import numpy as np\n",
    "import matplotlib.pyplot as plt"
   ]
  },
  {
   "cell_type": "code",
   "execution_count": 2,
   "id": "66be8bc8",
   "metadata": {},
   "outputs": [],
   "source": [
    "X_train = torch.tensor([[[[1,2,3,4],\n",
    "                          [2,3,4,5],\n",
    "                          [5,6,7,8],\n",
    "                          [1,3,4,5]]],\n",
    "                        [[[-1,2,3,-4],\n",
    "                          [2,-3,4,5],\n",
    "                          [-5,6,-7,8],\n",
    "                          [-1,-3,-4,-5]]]]).to(device).float()\n",
    "X_train /= 8\n",
    "y_train = torch.tensor([0,1]).to(device).float()"
   ]
  },
  {
   "cell_type": "code",
   "execution_count": 3,
   "id": "ea90d8dd",
   "metadata": {},
   "outputs": [],
   "source": [
    "def get_model():\n",
    "    model = nn.Sequential(nn.Conv2d(1, 1, kernel_size=3),\n",
    "                          nn.MaxPool2d(2),\n",
    "                          nn.ReLU(),\n",
    "                          nn.Flatten(),\n",
    "                          nn.Linear(1, 1),\n",
    "                          nn.Sigmoid()).to(device)\n",
    "    loss_fn = nn.BCELoss()\n",
    "    optimizer = Adam(model.parameters(), lr=1e-3)\n",
    "    return model, loss_fn, optimizer"
   ]
  },
  {
   "cell_type": "code",
   "execution_count": 4,
   "id": "bf98288d",
   "metadata": {},
   "outputs": [
    {
     "name": "stdout",
     "output_type": "stream",
     "text": [
      "==========================================================================================\n",
      "Layer (type:depth-idx)                   Output Shape              Param #\n",
      "==========================================================================================\n",
      "├─Conv2d: 1-1                            [-1, 1, 2, 2]             10\n",
      "├─MaxPool2d: 1-2                         [-1, 1, 1, 1]             --\n",
      "├─ReLU: 1-3                              [-1, 1, 1, 1]             --\n",
      "├─Flatten: 1-4                           [-1, 1]                   --\n",
      "├─Linear: 1-5                            [-1, 1]                   2\n",
      "├─Sigmoid: 1-6                           [-1, 1]                   --\n",
      "==========================================================================================\n",
      "Total params: 12\n",
      "Trainable params: 12\n",
      "Non-trainable params: 0\n",
      "Total mult-adds (M): 0.00\n",
      "==========================================================================================\n",
      "Input size (MB): 0.00\n",
      "Forward/backward pass size (MB): 0.00\n",
      "Params size (MB): 0.00\n",
      "Estimated Total Size (MB): 0.00\n",
      "==========================================================================================\n"
     ]
    }
   ],
   "source": [
    "from torchsummary import summary\n",
    "\n",
    "model, loss_fn, optimizer = get_model()\n",
    "summary(model, X_train);"
   ]
  },
  {
   "cell_type": "code",
   "execution_count": 5,
   "id": "86157f82",
   "metadata": {},
   "outputs": [],
   "source": [
    "def train_batch(x, y, model, opt, loss_fn):\n",
    "    model.train()\n",
    "    prediction = model(x)\n",
    "    batch_loss = loss_fn(prediction.squeeze(0), y)\n",
    "    batch_loss.backward()\n",
    "    optimizer.step()\n",
    "    optimizer.zero_grad()\n",
    "    return batch_loss.item()"
   ]
  },
  {
   "cell_type": "code",
   "execution_count": 6,
   "id": "616d4832",
   "metadata": {},
   "outputs": [],
   "source": [
    "trn_dl = DataLoader(TensorDataset(X_train, y_train))"
   ]
  },
  {
   "cell_type": "code",
   "execution_count": 7,
   "id": "45e69986",
   "metadata": {},
   "outputs": [],
   "source": [
    "for epoch in range(2000):\n",
    "    for ix, batch in enumerate(iter(trn_dl)):\n",
    "        x, y = batch\n",
    "        batch_loss = train_batch(x, y, model, optimizer, loss_fn)"
   ]
  },
  {
   "cell_type": "code",
   "execution_count": 8,
   "id": "3f0ac560",
   "metadata": {},
   "outputs": [
    {
     "data": {
      "text/plain": [
       "tensor([[0.2178]], device='cuda:0', grad_fn=<SigmoidBackward0>)"
      ]
     },
     "execution_count": 8,
     "metadata": {},
     "output_type": "execute_result"
    }
   ],
   "source": [
    "model(X_train[:1])"
   ]
  },
  {
   "cell_type": "markdown",
   "id": "4ff84e09",
   "metadata": {},
   "source": [
    "## Forward propagating the output in Python"
   ]
  },
  {
   "cell_type": "code",
   "execution_count": 9,
   "id": "43a7dbe5",
   "metadata": {},
   "outputs": [
    {
     "data": {
      "text/plain": [
       "[Conv2d(1, 1, kernel_size=(3, 3), stride=(1, 1)),\n",
       " MaxPool2d(kernel_size=2, stride=2, padding=0, dilation=1, ceil_mode=False),\n",
       " ReLU(),\n",
       " Flatten(start_dim=1, end_dim=-1),\n",
       " Linear(in_features=1, out_features=1, bias=True),\n",
       " Sigmoid()]"
      ]
     },
     "execution_count": 9,
     "metadata": {},
     "output_type": "execute_result"
    }
   ],
   "source": [
    "list(model.children())"
   ]
  },
  {
   "cell_type": "code",
   "execution_count": 10,
   "id": "5b0b11c5",
   "metadata": {},
   "outputs": [],
   "source": [
    "(cnn_w, cnn_b), (lin_w, lin_b) = [(layer.weight.data, layer.bias.data) for layer in list(model.children()) if hasattr(layer, 'weight')]"
   ]
  },
  {
   "cell_type": "code",
   "execution_count": 11,
   "id": "cd5d22de",
   "metadata": {},
   "outputs": [],
   "source": [
    "h_im, w_im = X_train.shape[2:]\n",
    "h_conv, w_conv = cnn_w.shape[2:]\n",
    "sumprod = torch.zeros((h_im - h_conv + 1, w_im - w_conv + 1))"
   ]
  },
  {
   "cell_type": "code",
   "execution_count": 12,
   "id": "d53f7ca8",
   "metadata": {},
   "outputs": [],
   "source": [
    "for i in range(h_im - h_conv + 1):\n",
    "    for j in range(w_im - w_conv + 1):\n",
    "        img_subset = X_train[0, 0, i:(i+3), j:(j+3)]\n",
    "        model_filter = cnn_w.reshape(3,3)\n",
    "        val = torch.sum(img_subset*model_filter) + cnn_b\n",
    "        sumprod[i,j] = val"
   ]
  },
  {
   "cell_type": "code",
   "execution_count": 13,
   "id": "23d0fedf",
   "metadata": {},
   "outputs": [
    {
     "data": {
      "text/plain": [
       "tensor([[-0.6334, -0.9264],\n",
       "        [-0.0228, -0.5166]])"
      ]
     },
     "execution_count": 13,
     "metadata": {},
     "output_type": "execute_result"
    }
   ],
   "source": [
    "sumprod"
   ]
  },
  {
   "cell_type": "code",
   "execution_count": 14,
   "id": "752caa05",
   "metadata": {},
   "outputs": [
    {
     "data": {
      "text/plain": [
       "tensor([[0., 0.],\n",
       "        [0., 0.]])"
      ]
     },
     "execution_count": 14,
     "metadata": {},
     "output_type": "execute_result"
    }
   ],
   "source": [
    "sumprod.clamp_min(0)"
   ]
  },
  {
   "cell_type": "code",
   "execution_count": 15,
   "id": "4c30bd65",
   "metadata": {},
   "outputs": [],
   "source": [
    "pooling_layer_output = torch.max(sumprod)"
   ]
  },
  {
   "cell_type": "code",
   "execution_count": 16,
   "id": "3d49f83f",
   "metadata": {},
   "outputs": [],
   "source": [
    "intermediate_output_value = pooling_layer_output * lin_w + lin_b"
   ]
  },
  {
   "cell_type": "code",
   "execution_count": 17,
   "id": "4880f848",
   "metadata": {},
   "outputs": [
    {
     "name": "stdout",
     "output_type": "stream",
     "text": [
      "tensor([[0.2118]], device='cuda:0')\n"
     ]
    }
   ],
   "source": [
    "from torch.nn import functional as F # torch library for numpy like functions\n",
    "print(F.sigmoid(intermediate_output_value))"
   ]
  },
  {
   "cell_type": "markdown",
   "id": "5bacab50",
   "metadata": {},
   "source": [
    "---"
   ]
  }
 ],
 "metadata": {
  "kernelspec": {
   "display_name": "Python 3 (ipykernel)",
   "language": "python",
   "name": "python3"
  },
  "language_info": {
   "codemirror_mode": {
    "name": "ipython",
    "version": 3
   },
   "file_extension": ".py",
   "mimetype": "text/x-python",
   "name": "python",
   "nbconvert_exporter": "python",
   "pygments_lexer": "ipython3",
   "version": "3.11.4"
  }
 },
 "nbformat": 4,
 "nbformat_minor": 5
}
