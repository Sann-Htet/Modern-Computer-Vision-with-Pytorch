{
  "nbformat": 4,
  "nbformat_minor": 0,
  "metadata": {
    "colab": {
      "provenance": [],
      "gpuType": "T4"
    },
    "kernelspec": {
      "name": "python3",
      "display_name": "Python 3"
    },
    "language_info": {
      "name": "python"
    },
    "accelerator": "GPU"
  },
  "cells": [
    {
      "cell_type": "code",
      "execution_count": 1,
      "metadata": {
        "id": "W2X-c-uvWN9l"
      },
      "outputs": [],
      "source": [
        "def get_iou(boxA, boxB, epsilon=1e-5):\n",
        "  x1 = max(boxA[0], boxB[0])\n",
        "  y1 = max(boxA[1], boxB[1])\n",
        "  x2 = min(boxA[2], boxB[2])\n",
        "  y2 = min(boxA[3], boxB[3])\n",
        "\n",
        "  width = (x2 - x1)\n",
        "  height = (y2 - y1)\n",
        "\n",
        "  if (width < 0) or (height < 0):\n",
        "    return 0.0\n",
        "  area_overlap = width * height\n",
        "\n",
        "  area_a = (boxA[2] - boxA[0]) * (boxA[3] - boxA[1])\n",
        "  area_b = (boxB[2] - boxB[0]) * (boxB[3] - boxB[1])\n",
        "  area_combined = area_a + area_b - area_overlap\n",
        "\n",
        "  iou = area_overlap / (area_combined + epsilon)\n",
        "  return iou"
      ]
    },
    {
      "cell_type": "code",
      "source": [
        "get_iou(boxA=[1, 1, 3, 3], boxB=[2, 0, 4, 2])"
      ],
      "metadata": {
        "colab": {
          "base_uri": "https://localhost:8080/"
        },
        "id": "0D4hPEniapjm",
        "outputId": "a66bf962-facb-440a-bae4-10ff7acd7f7f"
      },
      "execution_count": 2,
      "outputs": [
        {
          "output_type": "execute_result",
          "data": {
            "text/plain": [
              "0.14285693877580175"
            ]
          },
          "metadata": {},
          "execution_count": 2
        }
      ]
    },
    {
      "cell_type": "markdown",
      "source": [
        "---"
      ],
      "metadata": {
        "id": "8fIN1x6pbN58"
      }
    }
  ]
}