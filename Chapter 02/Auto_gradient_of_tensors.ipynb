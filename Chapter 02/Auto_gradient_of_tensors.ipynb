{
 "cells": [
  {
   "cell_type": "code",
   "execution_count": 1,
   "id": "8c6a2737",
   "metadata": {},
   "outputs": [
    {
     "name": "stdout",
     "output_type": "stream",
     "text": [
      "tensor([[ 2., -1.],\n",
      "        [ 1.,  1.]], requires_grad=True)\n"
     ]
    }
   ],
   "source": [
    "import numpy as np\n",
    "import torch\n",
    "\n",
    "x = torch.tensor([[2., -1.], [1., 1.]], requires_grad=True)\n",
    "print(x)"
   ]
  },
  {
   "cell_type": "code",
   "execution_count": 2,
   "id": "4b20f689",
   "metadata": {},
   "outputs": [],
   "source": [
    "out = x.pow(2).sum()"
   ]
  },
  {
   "cell_type": "code",
   "execution_count": 3,
   "id": "ea5ff243",
   "metadata": {},
   "outputs": [],
   "source": [
    "out.backward()"
   ]
  },
  {
   "cell_type": "code",
   "execution_count": 4,
   "id": "786142ee",
   "metadata": {},
   "outputs": [
    {
     "data": {
      "text/plain": [
       "tensor([[ 4., -2.],\n",
       "        [ 2.,  2.]])"
      ]
     },
     "execution_count": 4,
     "metadata": {},
     "output_type": "execute_result"
    }
   ],
   "source": [
    "x.grad"
   ]
  },
  {
   "cell_type": "markdown",
   "id": "a2320b82",
   "metadata": {},
   "source": [
    "## Computing gradients for the same case that was present in `Chain_rule.ipynb` notebook in previous chapter"
   ]
  },
  {
   "cell_type": "code",
   "execution_count": 5,
   "id": "85e0ca98",
   "metadata": {},
   "outputs": [],
   "source": [
    "x = np.array([[1,1]])\n",
    "y = np.array([[0]])\n",
    "x, y = [torch.tensor(i).float() for i in [x,y]]"
   ]
  },
  {
   "cell_type": "code",
   "execution_count": 6,
   "id": "3ed7aa3b",
   "metadata": {},
   "outputs": [],
   "source": [
    "W = [\n",
    "    np.array([[-0.0053, 0.3793],\n",
    "              [-0.5820, -0.5204],\n",
    "              [-0.2723, 0.1896]], dtype=np.float32).T, \n",
    "    np.array([-0.0140, 0.5607, -0.0628], dtype=np.float32), \n",
    "    np.array([[ 0.1528, -0.1745, -0.1135]], dtype=np.float32).T, \n",
    "    np.array([-0.5516], dtype=np.float32)\n",
    "]\n",
    "\n",
    "W = [torch.tensor(i, requires_grad=True) for i in W]"
   ]
  },
  {
   "cell_type": "code",
   "execution_count": 7,
   "id": "f54033bb",
   "metadata": {},
   "outputs": [
    {
     "data": {
      "text/plain": [
       "[tensor([[-0.0053, -0.5820, -0.2723],\n",
       "         [ 0.3793, -0.5204,  0.1896]], requires_grad=True),\n",
       " tensor([-0.0140,  0.5607, -0.0628], requires_grad=True),\n",
       " tensor([[ 0.1528],\n",
       "         [-0.1745],\n",
       "         [-0.1135]], requires_grad=True),\n",
       " tensor([-0.5516], requires_grad=True)]"
      ]
     },
     "execution_count": 7,
     "metadata": {},
     "output_type": "execute_result"
    }
   ],
   "source": [
    "W"
   ]
  },
  {
   "cell_type": "code",
   "execution_count": 8,
   "id": "90fff71c",
   "metadata": {},
   "outputs": [],
   "source": [
    "def feed_forward(inputs, outputs, weights):\n",
    "    pre_hidden = torch.matmul(inputs,weights[0])+ weights[1]\n",
    "    hidden = 1/(1+torch.exp(-pre_hidden))\n",
    "    out = torch.matmul(hidden, weights[2]) + weights[3]\n",
    "    mean_squared_error = torch.mean(torch.square(out - outputs))\n",
    "    return mean_squared_error"
   ]
  },
  {
   "cell_type": "code",
   "execution_count": 9,
   "id": "32b7d2bb",
   "metadata": {},
   "outputs": [
    {
     "data": {
      "text/plain": [
       "tensor(0.3346, grad_fn=<MeanBackward0>)"
      ]
     },
     "execution_count": 9,
     "metadata": {},
     "output_type": "execute_result"
    }
   ],
   "source": [
    "loss = feed_forward(x, y, W)\n",
    "loss"
   ]
  },
  {
   "cell_type": "code",
   "execution_count": 10,
   "id": "432a68b7",
   "metadata": {},
   "outputs": [],
   "source": [
    "loss.backward()"
   ]
  },
  {
   "cell_type": "code",
   "execution_count": 11,
   "id": "fd69a3b4",
   "metadata": {},
   "outputs": [
    {
     "name": "stdout",
     "output_type": "stream",
     "text": [
      "[tensor([[-0.0428,  0.0469,  0.0327],\n",
      "        [-0.0428,  0.0469,  0.0327]]), tensor([-0.0428,  0.0469,  0.0327]), tensor([[-0.6814],\n",
      "        [-0.4255],\n",
      "        [-0.5364]]), tensor([-1.1568])]\n"
     ]
    }
   ],
   "source": [
    "print([w.grad for w in W])"
   ]
  },
  {
   "cell_type": "code",
   "execution_count": 12,
   "id": "de4926ad",
   "metadata": {},
   "outputs": [
    {
     "data": {
      "text/plain": [
       "[tensor([[ 0.0375, -0.6289, -0.3050],\n",
       "         [ 0.4221, -0.5673,  0.1569]], grad_fn=<SubBackward0>),\n",
       " tensor([ 0.0288,  0.5138, -0.0955], grad_fn=<SubBackward0>),\n",
       " tensor([[0.8342],\n",
       "         [0.2510],\n",
       "         [0.4229]], grad_fn=<SubBackward0>),\n",
       " tensor([0.6052], grad_fn=<SubBackward0>)]"
      ]
     },
     "execution_count": 12,
     "metadata": {},
     "output_type": "execute_result"
    }
   ],
   "source": [
    "updated_W = [w-w.grad for w in W]\n",
    "updated_W"
   ]
  },
  {
   "cell_type": "markdown",
   "id": "ba11dd0d",
   "metadata": {},
   "source": [
    "---"
   ]
  }
 ],
 "metadata": {
  "kernelspec": {
   "display_name": "Python 3 (ipykernel)",
   "language": "python",
   "name": "python3"
  },
  "language_info": {
   "codemirror_mode": {
    "name": "ipython",
    "version": 3
   },
   "file_extension": ".py",
   "mimetype": "text/x-python",
   "name": "python",
   "nbconvert_exporter": "python",
   "pygments_lexer": "ipython3",
   "version": "3.11.4"
  }
 },
 "nbformat": 4,
 "nbformat_minor": 5
}
