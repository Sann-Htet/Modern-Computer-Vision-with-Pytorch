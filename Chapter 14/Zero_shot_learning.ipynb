{
  "nbformat": 4,
  "nbformat_minor": 0,
  "metadata": {
    "colab": {
      "provenance": [],
      "gpuType": "T4"
    },
    "kernelspec": {
      "name": "python3",
      "display_name": "Python 3"
    },
    "language_info": {
      "name": "python"
    },
    "accelerator": "GPU"
  },
  "cells": [
    {
      "cell_type": "code",
      "execution_count": 1,
      "metadata": {
        "colab": {
          "base_uri": "https://localhost:8080/"
        },
        "id": "K8VtkHRhLNAc",
        "outputId": "1a808773-fd2c-4213-afa1-1c1725986890"
      },
      "outputs": [
        {
          "output_type": "stream",
          "name": "stdout",
          "text": [
            "Cloning into 'zero-shot-learning'...\n",
            "remote: Enumerating objects: 102, done.\u001b[K\n",
            "remote: Counting objects: 100% (23/23), done.\u001b[K\n",
            "remote: Compressing objects: 100% (4/4), done.\u001b[K\n",
            "remote: Total 102 (delta 20), reused 19 (delta 19), pack-reused 79\u001b[K\n",
            "Receiving objects: 100% (102/102), 134.47 MiB | 15.31 MiB/s, done.\n",
            "Resolving deltas: 100% (45/45), done.\n",
            "\u001b[2K     \u001b[90m━━━━━━━━━━━━━━━━━━━━━━━━━━━━━━━━━━━━━━━━\u001b[0m \u001b[32m65.4/65.4 kB\u001b[0m \u001b[31m831.0 kB/s\u001b[0m eta \u001b[36m0:00:00\u001b[0m\n",
            "\u001b[2K     \u001b[90m━━━━━━━━━━━━━━━━━━━━━━━━━━━━━━━━━━━━━━━━\u001b[0m \u001b[32m115.3/115.3 kB\u001b[0m \u001b[31m2.9 MB/s\u001b[0m eta \u001b[36m0:00:00\u001b[0m\n",
            "\u001b[2K     \u001b[90m━━━━━━━━━━━━━━━━━━━━━━━━━━━━━━━━━━━━━━━━\u001b[0m \u001b[32m62.5/62.5 kB\u001b[0m \u001b[31m5.4 MB/s\u001b[0m eta \u001b[36m0:00:00\u001b[0m\n",
            "\u001b[2K     \u001b[90m━━━━━━━━━━━━━━━━━━━━━━━━━━━━━━━━━━━━━━━━\u001b[0m \u001b[32m78.6/78.6 kB\u001b[0m \u001b[31m5.5 MB/s\u001b[0m eta \u001b[36m0:00:00\u001b[0m\n",
            "\u001b[?25h  Preparing metadata (setup.py) ... \u001b[?25l\u001b[?25hdone\n",
            "\u001b[2K     \u001b[90m━━━━━━━━━━━━━━━━━━━━━━━━━━━━━━━━━━━━━━━━\u001b[0m \u001b[32m203.7/203.7 kB\u001b[0m \u001b[31m22.8 MB/s\u001b[0m eta \u001b[36m0:00:00\u001b[0m\n",
            "\u001b[2K     \u001b[90m━━━━━━━━━━━━━━━━━━━━━━━━━━━━━━━━━━━━━━━━\u001b[0m \u001b[32m4.3/4.3 MB\u001b[0m \u001b[31m19.7 MB/s\u001b[0m eta \u001b[36m0:00:00\u001b[0m\n",
            "\u001b[2K     \u001b[90m━━━━━━━━━━━━━━━━━━━━━━━━━━━━━━━━━━━━━━━━\u001b[0m \u001b[32m1.6/1.6 MB\u001b[0m \u001b[31m58.3 MB/s\u001b[0m eta \u001b[36m0:00:00\u001b[0m\n",
            "\u001b[2K     \u001b[90m━━━━━━━━━━━━━━━━━━━━━━━━━━━━━━━━━━━━━━━━\u001b[0m \u001b[32m98.9/98.9 kB\u001b[0m \u001b[31m11.1 MB/s\u001b[0m eta \u001b[36m0:00:00\u001b[0m\n",
            "\u001b[2K     \u001b[90m━━━━━━━━━━━━━━━━━━━━━━━━━━━━━━━━━━━━━━━━\u001b[0m \u001b[32m3.7/3.7 MB\u001b[0m \u001b[31m99.3 MB/s\u001b[0m eta \u001b[36m0:00:00\u001b[0m\n",
            "\u001b[2K     \u001b[90m━━━━━━━━━━━━━━━━━━━━━━━━━━━━━━━━━━━━━━━━\u001b[0m \u001b[32m30.6/30.6 MB\u001b[0m \u001b[31m49.6 MB/s\u001b[0m eta \u001b[36m0:00:00\u001b[0m\n",
            "\u001b[2K     \u001b[90m━━━━━━━━━━━━━━━━━━━━━━━━━━━━━━━━━━━━━━━━\u001b[0m \u001b[32m169.4/169.4 kB\u001b[0m \u001b[31m18.7 MB/s\u001b[0m eta \u001b[36m0:00:00\u001b[0m\n",
            "\u001b[2K     \u001b[90m━━━━━━━━━━━━━━━━━━━━━━━━━━━━━━━━━━━━━━━━\u001b[0m \u001b[32m3.2/3.2 MB\u001b[0m \u001b[31m73.9 MB/s\u001b[0m eta \u001b[36m0:00:00\u001b[0m\n",
            "\u001b[2K     \u001b[90m━━━━━━━━━━━━━━━━━━━━━━━━━━━━━━━━━━━━━━━━\u001b[0m \u001b[32m468.9/468.9 kB\u001b[0m \u001b[31m35.6 MB/s\u001b[0m eta \u001b[36m0:00:00\u001b[0m\n",
            "\u001b[?25h  Building wheel for typing (setup.py) ... \u001b[?25l\u001b[?25hdone\n",
            "/content/zero-shot-learning/src\n"
          ]
        }
      ],
      "source": [
        "!git clone https://github.com/sizhky/zero-shot-learning/\n",
        "!pip install -Uq torch_snippets\n",
        "%cd zero-shot-learning/src\n",
        "import gzip\n",
        "import _pickle as cPickle\n",
        "from torch_snippets import *\n",
        "from sklearn.preprocessing import LabelEncoder, normalize\n",
        "device = 'cuda' if torch.cuda.is_available() else 'cpu'"
      ]
    },
    {
      "cell_type": "code",
      "source": [
        "WORD2VECPATH = \"../data/class_vectors.npy\"\n",
        "DATAPATH = \"../data/zeroshot_data.pkl\""
      ],
      "metadata": {
        "id": "gkLatBSsNEx6"
      },
      "execution_count": 2,
      "outputs": []
    },
    {
      "cell_type": "code",
      "source": [
        "with open('train_classes.txt', 'r') as infile:\n",
        "  train_classes = [str.strip(line) for line in infile]"
      ],
      "metadata": {
        "id": "X9bo_Cw0NO4h"
      },
      "execution_count": 3,
      "outputs": []
    },
    {
      "cell_type": "code",
      "source": [
        "with gzip.GzipFile(DATAPATH, 'rb') as infile:\n",
        "  data = cPickle.load(infile)"
      ],
      "metadata": {
        "id": "4qvb9iQJNXwB"
      },
      "execution_count": 4,
      "outputs": []
    },
    {
      "cell_type": "code",
      "source": [
        "training_data = [instance for instance in data if instance[0] in train_classes]\n",
        "zero_shot_data = [instance for instance in data if instance[0] not in train_classes]\n",
        "np.random.shuffle(training_data)"
      ],
      "metadata": {
        "id": "HPyv8kWkNxxX"
      },
      "execution_count": 5,
      "outputs": []
    },
    {
      "cell_type": "code",
      "source": [
        "train_size = 300 # per class\n",
        "train_data, valid_data = [], []\n",
        "for class_label in train_classes:\n",
        "  ctr = 0\n",
        "  for instance in training_data:\n",
        "    if instance[0] == class_label:\n",
        "      if ctr < train_size:\n",
        "        train_data.append(instance)\n",
        "        ctr += 1\n",
        "      else:\n",
        "        valid_data.append(instance)"
      ],
      "metadata": {
        "id": "ZB1mXSw4OKmB"
      },
      "execution_count": 6,
      "outputs": []
    },
    {
      "cell_type": "code",
      "source": [
        "np.random.shuffle(train_data)\n",
        "np.random.shuffle(valid_data)\n",
        "vectors = {i:j for i,j in np.load(WORD2VECPATH, allow_pickle=True)}"
      ],
      "metadata": {
        "id": "mqk8m0OLOxqC"
      },
      "execution_count": 7,
      "outputs": []
    },
    {
      "cell_type": "code",
      "source": [
        "train_data = [(feat, vectors[clss]) for clss,feat in train_data]\n",
        "valid_data = [(feat, vectors[clss]) for clss,feat in valid_data]"
      ],
      "metadata": {
        "id": "RFehRRWhPG6I"
      },
      "execution_count": 8,
      "outputs": []
    },
    {
      "cell_type": "code",
      "source": [
        "train_clss = [clss for clss,feat in train_data]\n",
        "valid_clss = [clss for clss,feat in valid_data]\n",
        "zero_shot_clss = [clss for clss,feat in zero_shot_data]"
      ],
      "metadata": {
        "id": "LR6UQmGqPQAK"
      },
      "execution_count": 9,
      "outputs": []
    },
    {
      "cell_type": "code",
      "source": [
        "x_train, y_train = zip(*train_data)\n",
        "x_train, y_train = np.squeeze(np.asarray(x_train)), np.squeeze(np.asarray(y_train))\n",
        "x_train = normalize(x_train, norm='l2')\n",
        "\n",
        "x_valid, y_valid = zip(*valid_data)\n",
        "x_valid, y_valid = np.squeeze(np.asarray(x_valid)), np.squeeze(np.asarray(y_valid))\n",
        "x_valid = normalize(x_valid, norm='l2')\n",
        "\n",
        "y_zsl, x_zsl = zip(*zero_shot_data)\n",
        "x_zsl, y_zsl = np.squeeze(np.asarray(x_zsl)), np.squeeze(np.asarray(y_zsl))\n",
        "x_zsl = normalize(x_zsl, norm='l2')"
      ],
      "metadata": {
        "id": "78YIBhwRPozK"
      },
      "execution_count": 10,
      "outputs": []
    },
    {
      "cell_type": "code",
      "source": [
        "from torch.utils.data import TensorDataset\n",
        "\n",
        "trn_ds = TensorDataset(*[torch.Tensor(t).to(device) for t in [x_train, y_train]])\n",
        "val_ds = TensorDataset(*[torch.Tensor(t).to(device) for t in [x_valid, y_valid]])\n",
        "\n",
        "trn_dl = DataLoader(trn_ds, batch_size=32, shuffle=True)\n",
        "val_dl = DataLoader(val_ds, batch_size=32, shuffle=False)"
      ],
      "metadata": {
        "id": "JaO2Uq81P76P"
      },
      "execution_count": 11,
      "outputs": []
    },
    {
      "cell_type": "code",
      "source": [
        "def build_model():\n",
        "    return nn.Sequential(\n",
        "        nn.Linear(4096, 1024), nn.ReLU(inplace=True),\n",
        "        nn.BatchNorm1d(1024), nn.Dropout(0.8),\n",
        "        nn.Linear(1024, 512), nn.ReLU(inplace=True),\n",
        "        nn.BatchNorm1d(512), nn.Dropout(0.8),\n",
        "        nn.Linear(512, 256), nn.ReLU(inplace=True),\n",
        "        nn.BatchNorm1d(256), nn.Dropout(0.8),\n",
        "        nn.Linear(256, 300)\n",
        "    )"
      ],
      "metadata": {
        "id": "6eeVngHJQGsn"
      },
      "execution_count": 12,
      "outputs": []
    },
    {
      "cell_type": "code",
      "source": [
        "def train_batch(model, data, optimizer, criterion):\n",
        "    ims, labels = data\n",
        "    _preds = model(ims)\n",
        "    optimizer.zero_grad()\n",
        "    loss = criterion(_preds, labels)\n",
        "    loss.backward()\n",
        "    optimizer.step()\n",
        "    return loss.item()\n",
        "\n",
        "@torch.no_grad()\n",
        "def validate_batch(model, data, criterion):\n",
        "    ims, labels = data\n",
        "    _preds = model(ims)\n",
        "    loss = criterion(_preds, labels)\n",
        "    return loss.item()"
      ],
      "metadata": {
        "id": "RKxzMCtQQOwo"
      },
      "execution_count": 13,
      "outputs": []
    },
    {
      "cell_type": "code",
      "source": [
        "model = build_model().to(device)\n",
        "criterion = nn.MSELoss()\n",
        "optimizer = optim.Adam(model.parameters(), lr=1e-3)\n",
        "n_epochs = 60\n",
        "\n",
        "log = Report(n_epochs)\n",
        "for ex in range(n_epochs):\n",
        "    N = len(trn_dl)\n",
        "    for bx, data in enumerate(trn_dl):\n",
        "        loss = train_batch(model, data, optimizer, criterion)\n",
        "        log.record(ex+(bx+1)/N, trn_loss=loss, end='\\r')\n",
        "\n",
        "    N = len(val_dl)\n",
        "    for bx, data in enumerate(val_dl):\n",
        "        loss = validate_batch(model, data, criterion)\n",
        "        log.record(ex+(bx+1)/N, val_loss=loss, end='\\r')\n",
        "\n",
        "    if ex == 10: optimizer = optim.Adam(model.parameters(), lr=1e-4)\n",
        "    if ex == 40: optimizer = optim.Adam(model.parameters(), lr=1e-5)\n",
        "    if not (ex+1)%10: log.report_avgs(ex+1)\n",
        "\n",
        "log.plot(log=True)"
      ],
      "metadata": {
        "colab": {
          "base_uri": "https://localhost:8080/",
          "height": 646
        },
        "id": "UHVesNF_QU4X",
        "outputId": "bc80c523-2759-4716-e9b9-446d4034baee"
      },
      "execution_count": 14,
      "outputs": [
        {
          "output_type": "stream",
          "name": "stdout",
          "text": [
            "EPOCH: 10.000  val_loss: 0.020  trn_loss: 0.020  (14.01s - 70.04s remaining)\n",
            "EPOCH: 20.000  val_loss: 0.014  trn_loss: 0.014  (24.99s - 49.99s remaining)\n",
            "EPOCH: 30.000  val_loss: 0.014  trn_loss: 0.013  (32.65s - 32.65s remaining)\n",
            "EPOCH: 40.000  val_loss: 0.013  trn_loss: 0.012  (40.47s - 20.24s remaining)\n",
            "EPOCH: 50.000  val_loss: 0.013  trn_loss: 0.011  (47.82s - 9.56s remaining)\n",
            "EPOCH: 60.000  val_loss: 0.013  trn_loss: 0.011  (55.58s - 0.00s remaining)\n"
          ]
        },
        {
          "output_type": "display_data",
          "data": {
            "text/plain": [
              "<Figure size 800x600 with 1 Axes>"
            ],
            "image/png": "[encoded data removed]"
          },
          "metadata": {}
        }
      ]
    },
    {
      "cell_type": "code",
      "source": [
        "pred_zsl = model(torch.Tensor(x_zsl).to(device)).cpu().detach().numpy()\n",
        "\n",
        "class_vectors = sorted(np.load(WORD2VECPATH, allow_pickle=True), key=lambda x: x[0])\n",
        "classnames, vectors = zip(*class_vectors)\n",
        "classnames = list(classnames)\n",
        "\n",
        "vectors = np.array(vectors)"
      ],
      "metadata": {
        "id": "ErxB0FkHRB-a"
      },
      "execution_count": 15,
      "outputs": []
    },
    {
      "cell_type": "code",
      "source": [
        "dists = (pred_zsl[None] - vectors[:,None])\n",
        "dists = (dists**2).sum(-1).T\n",
        "\n",
        "best_classes = []\n",
        "for item in dists:\n",
        "    best_classes.append([classnames[j] for j in np.argsort(item)[:5]])\n",
        "\n",
        "np.mean([i in J for i,J in zip(zero_shot_clss, best_classes)])"
      ],
      "metadata": {
        "colab": {
          "base_uri": "https://localhost:8080/"
        },
        "id": "Z9DjLXQwRFOW",
        "outputId": "2f98c902-7034-4bb9-e4c9-d83ef9ec51cc"
      },
      "execution_count": 16,
      "outputs": [
        {
          "output_type": "execute_result",
          "data": {
            "text/plain": [
              "0.7183591795897949"
            ]
          },
          "metadata": {},
          "execution_count": 16
        }
      ]
    },
    {
      "cell_type": "markdown",
      "source": [
        "---"
      ],
      "metadata": {
        "id": "qDZjEtk1RLy4"
      }
    }
  ]
}